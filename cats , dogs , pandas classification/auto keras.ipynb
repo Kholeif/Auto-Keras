{
 "cells": [
  {
   "cell_type": "code",
   "execution_count": 1,
   "metadata": {},
   "outputs": [],
   "source": [
    "import autokeras as ak\n",
    "from sklearn.preprocessing import LabelBinarizer\n",
    "from sklearn.model_selection import train_test_split\n",
    "import numpy as np\n",
    "import cv2\n",
    "import os"
   ]
  },
  {
   "cell_type": "code",
   "execution_count": 2,
   "metadata": {},
   "outputs": [
    {
     "data": {
      "text/plain": [
       "['cats', 'dogs', 'panda']"
      ]
     },
     "execution_count": 2,
     "metadata": {},
     "output_type": "execute_result"
    }
   ],
   "source": [
    "classes = os.listdir(\"animals\")\n",
    "classes"
   ]
  },
  {
   "cell_type": "code",
   "execution_count": 3,
   "metadata": {},
   "outputs": [],
   "source": [
    "x=[]\n",
    "y=[]\n",
    "for i in classes:\n",
    "    current_folder = os.path.join(\"animals\",i)\n",
    "    for j in os.listdir(current_folder):\n",
    "        image_path = os.path.join(\"animals\",i,j)\n",
    "        image = cv2.imread(image_path)\n",
    "        image = cv2.resize(image,(64,64))\n",
    "        x.append(image)\n",
    "        y.append(i)"
   ]
  },
  {
   "cell_type": "code",
   "execution_count": 4,
   "metadata": {},
   "outputs": [
    {
     "name": "stdout",
     "output_type": "stream",
     "text": [
      "(3000, 64, 64, 3)\n",
      "(3000,)\n"
     ]
    }
   ],
   "source": [
    "x=np.array(x)/255.0\n",
    "print(x.shape)\n",
    "y=np.array(y)\n",
    "print(y.shape)"
   ]
  },
  {
   "cell_type": "code",
   "execution_count": 5,
   "metadata": {},
   "outputs": [],
   "source": [
    "(trainX, testX, trainY, testY) = train_test_split(x, y, test_size=0.25, random_state=42)"
   ]
  },
  {
   "cell_type": "code",
   "execution_count": 6,
   "metadata": {},
   "outputs": [
    {
     "name": "stdout",
     "output_type": "stream",
     "text": [
      "['cats' 'dogs' 'panda']\n",
      "3\n"
     ]
    }
   ],
   "source": [
    "lb = LabelBinarizer()\n",
    "lb.fit(trainY)\n",
    "trainY = lb.transform(trainY)\n",
    "testY = lb.transform(testY)\n",
    "classes_names = lb.classes_\n",
    "print(classes_names)\n",
    "classes_number = len(lb.classes_)\n",
    "print(classes_number)"
   ]
  },
  {
   "cell_type": "code",
   "execution_count": 7,
   "metadata": {},
   "outputs": [
    {
     "name": "stdout",
     "output_type": "stream",
     "text": [
      "Trial 1 Complete [00h 00m 42s]\n",
      "val_loss: 0.7587279677391052\n",
      "\n",
      "Best val_loss So Far: 0.7587279677391052\n",
      "Total elapsed time: 00h 00m 42s\n",
      "INFO:tensorflow:Oracle triggered exit\n",
      "Epoch 1/100\n",
      "71/71 [==============================] - 2s 28ms/step - loss: 0.9422 - accuracy: 0.5582\n",
      "Epoch 2/100\n",
      "71/71 [==============================] - 2s 28ms/step - loss: 0.6218 - accuracy: 0.7182\n",
      "Epoch 3/100\n",
      "71/71 [==============================] - 2s 28ms/step - loss: 0.4765 - accuracy: 0.8004\n",
      "Epoch 4/100\n",
      "71/71 [==============================] - 2s 28ms/step - loss: 0.3388 - accuracy: 0.8693\n",
      "Epoch 5/100\n",
      "71/71 [==============================] - 2s 28ms/step - loss: 0.2977 - accuracy: 0.8876\n",
      "Epoch 6/100\n",
      "71/71 [==============================] - 2s 28ms/step - loss: 0.2330 - accuracy: 0.9102\n",
      "Epoch 7/100\n",
      "71/71 [==============================] - 2s 28ms/step - loss: 0.1579 - accuracy: 0.9436\n",
      "Epoch 8/100\n",
      "71/71 [==============================] - 2s 28ms/step - loss: 0.1451 - accuracy: 0.9444\n",
      "Epoch 9/100\n",
      "71/71 [==============================] - 2s 32ms/step - loss: 0.1306 - accuracy: 0.9511\n",
      "Epoch 10/100\n",
      "71/71 [==============================] - 2s 31ms/step - loss: 0.1107 - accuracy: 0.9591\n",
      "Epoch 11/100\n",
      "71/71 [==============================] - 2s 32ms/step - loss: 0.0899 - accuracy: 0.9702\n",
      "Epoch 12/100\n",
      "71/71 [==============================] - 2s 31ms/step - loss: 0.0523 - accuracy: 0.9831\n",
      "Epoch 13/100\n",
      "71/71 [==============================] - 2s 28ms/step - loss: 0.0383 - accuracy: 0.9893\n",
      "Epoch 14/100\n",
      "71/71 [==============================] - 2s 28ms/step - loss: 0.0488 - accuracy: 0.9844\n",
      "Epoch 15/100\n",
      "71/71 [==============================] - 2s 29ms/step - loss: 0.0420 - accuracy: 0.9871\n",
      "Epoch 16/100\n",
      "71/71 [==============================] - 2s 29ms/step - loss: 0.0520 - accuracy: 0.9791\n",
      "Epoch 17/100\n",
      "71/71 [==============================] - 2s 29ms/step - loss: 0.0479 - accuracy: 0.9827\n",
      "Epoch 18/100\n",
      "71/71 [==============================] - 2s 28ms/step - loss: 0.0488 - accuracy: 0.9818\n",
      "Epoch 19/100\n",
      "71/71 [==============================] - 2s 29ms/step - loss: 0.0469 - accuracy: 0.9818\n",
      "Epoch 20/100\n",
      "71/71 [==============================] - 2s 29ms/step - loss: 0.0301 - accuracy: 0.9907\n",
      "Epoch 21/100\n",
      "71/71 [==============================] - 2s 29ms/step - loss: 0.0461 - accuracy: 0.9836\n",
      "Epoch 22/100\n",
      "71/71 [==============================] - 2s 29ms/step - loss: 0.0515 - accuracy: 0.9827\n",
      "Epoch 23/100\n",
      "71/71 [==============================] - 2s 30ms/step - loss: 0.0538 - accuracy: 0.9818\n",
      "Epoch 24/100\n",
      "71/71 [==============================] - 3s 36ms/step - loss: 0.0565 - accuracy: 0.9849\n",
      "Epoch 25/100\n",
      "71/71 [==============================] - 2s 28ms/step - loss: 0.0369 - accuracy: 0.9889\n",
      "Epoch 26/100\n",
      "71/71 [==============================] - 2s 31ms/step - loss: 0.0350 - accuracy: 0.9853\n",
      "Epoch 27/100\n",
      "71/71 [==============================] - 2s 31ms/step - loss: 0.0404 - accuracy: 0.9858\n",
      "Epoch 28/100\n",
      "71/71 [==============================] - 2s 30ms/step - loss: 0.0372 - accuracy: 0.9867\n",
      "Epoch 29/100\n",
      "71/71 [==============================] - 2s 29ms/step - loss: 0.0519 - accuracy: 0.9844\n",
      "Epoch 30/100\n",
      "71/71 [==============================] - 2s 28ms/step - loss: 0.0668 - accuracy: 0.9747\n",
      "Epoch 31/100\n",
      "71/71 [==============================] - 2s 28ms/step - loss: 0.0568 - accuracy: 0.9791\n",
      "Epoch 32/100\n",
      "71/71 [==============================] - 2s 29ms/step - loss: 0.0640 - accuracy: 0.9782\n",
      "Epoch 33/100\n",
      "71/71 [==============================] - 2s 30ms/step - loss: 0.0465 - accuracy: 0.9831\n",
      "Epoch 34/100\n",
      "71/71 [==============================] - 2s 28ms/step - loss: 0.0328 - accuracy: 0.9889\n",
      "Epoch 35/100\n",
      "71/71 [==============================] - 2s 29ms/step - loss: 0.0343 - accuracy: 0.9871\n",
      "Epoch 36/100\n",
      "71/71 [==============================] - 2s 29ms/step - loss: 0.0189 - accuracy: 0.9933\n",
      "Epoch 37/100\n",
      "71/71 [==============================] - 2s 29ms/step - loss: 0.0381 - accuracy: 0.9871\n",
      "Epoch 38/100\n",
      "71/71 [==============================] - 2s 30ms/step - loss: 0.0472 - accuracy: 0.9831 0s - loss: 0\n",
      "Epoch 39/100\n",
      "71/71 [==============================] - 2s 28ms/step - loss: 0.0284 - accuracy: 0.9898\n",
      "Epoch 40/100\n",
      "71/71 [==============================] - 2s 29ms/step - loss: 0.0312 - accuracy: 0.9893\n",
      "Epoch 41/100\n",
      "71/71 [==============================] - 2s 29ms/step - loss: 0.0306 - accuracy: 0.9898\n",
      "Epoch 42/100\n",
      "71/71 [==============================] - 2s 28ms/step - loss: 0.0305 - accuracy: 0.9916\n",
      "Epoch 43/100\n",
      "71/71 [==============================] - 2s 31ms/step - loss: 0.0188 - accuracy: 0.9942\n",
      "Epoch 44/100\n",
      "71/71 [==============================] - 2s 28ms/step - loss: 0.0276 - accuracy: 0.9929\n",
      "Epoch 45/100\n",
      "71/71 [==============================] - 2s 28ms/step - loss: 0.0360 - accuracy: 0.9880\n",
      "Epoch 46/100\n",
      "71/71 [==============================] - 2s 28ms/step - loss: 0.0274 - accuracy: 0.9907\n",
      "Epoch 47/100\n",
      "71/71 [==============================] - 2s 31ms/step - loss: 0.0218 - accuracy: 0.9929\n",
      "Epoch 48/100\n",
      "71/71 [==============================] - 2s 28ms/step - loss: 0.0266 - accuracy: 0.9911\n",
      "Epoch 49/100\n",
      "71/71 [==============================] - 2s 32ms/step - loss: 0.0240 - accuracy: 0.9907\n",
      "Epoch 50/100\n",
      "71/71 [==============================] - 2s 28ms/step - loss: 0.0230 - accuracy: 0.9907\n",
      "Epoch 51/100\n",
      "71/71 [==============================] - 2s 28ms/step - loss: 0.0565 - accuracy: 0.9804\n",
      "Epoch 52/100\n",
      "71/71 [==============================] - 2s 30ms/step - loss: 0.0521 - accuracy: 0.9831\n",
      "Epoch 53/100\n",
      "71/71 [==============================] - 2s 31ms/step - loss: 0.0308 - accuracy: 0.9907\n",
      "Epoch 54/100\n",
      "71/71 [==============================] - 2s 31ms/step - loss: 0.0198 - accuracy: 0.9929\n",
      "Epoch 55/100\n",
      "71/71 [==============================] - 2s 27ms/step - loss: 0.0432 - accuracy: 0.9889\n",
      "Epoch 56/100\n",
      "71/71 [==============================] - 2s 28ms/step - loss: 0.0272 - accuracy: 0.9907\n",
      "Epoch 57/100\n",
      "71/71 [==============================] - 2s 28ms/step - loss: 0.0220 - accuracy: 0.9947 0s - loss: 0.029\n",
      "Epoch 58/100\n",
      "71/71 [==============================] - 2s 30ms/step - loss: 0.0314 - accuracy: 0.9907\n",
      "Epoch 59/100\n",
      "71/71 [==============================] - 2s 29ms/step - loss: 0.0198 - accuracy: 0.9916\n",
      "Epoch 60/100\n",
      "71/71 [==============================] - 2s 27ms/step - loss: 0.0118 - accuracy: 0.9951\n",
      "Epoch 61/100\n",
      "71/71 [==============================] - 2s 30ms/step - loss: 0.0343 - accuracy: 0.9902\n",
      "Epoch 62/100\n",
      "71/71 [==============================] - 2s 28ms/step - loss: 0.0215 - accuracy: 0.9924\n",
      "Epoch 63/100\n",
      "71/71 [==============================] - 2s 28ms/step - loss: 0.0342 - accuracy: 0.9889\n",
      "Epoch 64/100\n",
      "71/71 [==============================] - 2s 28ms/step - loss: 0.0256 - accuracy: 0.9907\n",
      "Epoch 65/100\n",
      "71/71 [==============================] - 2s 29ms/step - loss: 0.0326 - accuracy: 0.9893\n",
      "Epoch 66/100\n",
      "71/71 [==============================] - 2s 28ms/step - loss: 0.0313 - accuracy: 0.9858\n",
      "Epoch 67/100\n",
      "71/71 [==============================] - 2s 28ms/step - loss: 0.0228 - accuracy: 0.9929\n",
      "Epoch 68/100\n",
      "71/71 [==============================] - 2s 28ms/step - loss: 0.0494 - accuracy: 0.9840\n",
      "Epoch 69/100\n",
      "71/71 [==============================] - 2s 28ms/step - loss: 0.0360 - accuracy: 0.9880\n",
      "Epoch 70/100\n",
      "71/71 [==============================] - 2s 28ms/step - loss: 0.0371 - accuracy: 0.9893\n",
      "Epoch 71/100\n",
      "71/71 [==============================] - 2s 27ms/step - loss: 0.0454 - accuracy: 0.9853\n",
      "Epoch 72/100\n",
      "71/71 [==============================] - 2s 29ms/step - loss: 0.0232 - accuracy: 0.9933\n",
      "Epoch 73/100\n",
      "71/71 [==============================] - 2s 27ms/step - loss: 0.0269 - accuracy: 0.9920\n",
      "Epoch 74/100\n",
      "71/71 [==============================] - 2s 28ms/step - loss: 0.0160 - accuracy: 0.9938\n",
      "Epoch 75/100\n",
      "71/71 [==============================] - 2s 27ms/step - loss: 0.0361 - accuracy: 0.9893\n",
      "Epoch 76/100\n",
      "71/71 [==============================] - 2s 28ms/step - loss: 0.0174 - accuracy: 0.9933\n",
      "Epoch 77/100\n",
      "71/71 [==============================] - 2s 28ms/step - loss: 0.0317 - accuracy: 0.9911\n",
      "Epoch 78/100\n",
      "71/71 [==============================] - 2s 27ms/step - loss: 0.0216 - accuracy: 0.9920\n",
      "Epoch 79/100\n",
      "71/71 [==============================] - 2s 30ms/step - loss: 0.0266 - accuracy: 0.9889\n",
      "Epoch 80/100\n"
     ]
    },
    {
     "name": "stdout",
     "output_type": "stream",
     "text": [
      "71/71 [==============================] - 2s 28ms/step - loss: 0.0147 - accuracy: 0.9947\n",
      "Epoch 81/100\n",
      "71/71 [==============================] - 2s 28ms/step - loss: 0.0208 - accuracy: 0.9920\n",
      "Epoch 82/100\n",
      "71/71 [==============================] - 2s 32ms/step - loss: 0.0222 - accuracy: 0.9916\n",
      "Epoch 83/100\n",
      "71/71 [==============================] - 2s 27ms/step - loss: 0.0359 - accuracy: 0.9893\n",
      "Epoch 84/100\n",
      "71/71 [==============================] - 2s 27ms/step - loss: 0.0200 - accuracy: 0.9924\n",
      "Epoch 85/100\n",
      "71/71 [==============================] - 2s 27ms/step - loss: 0.0198 - accuracy: 0.9942\n",
      "Epoch 86/100\n",
      "71/71 [==============================] - 2s 27ms/step - loss: 0.0191 - accuracy: 0.9938\n",
      "Epoch 87/100\n",
      "71/71 [==============================] - 2s 27ms/step - loss: 0.0300 - accuracy: 0.9907\n",
      "Epoch 88/100\n",
      "71/71 [==============================] - 2s 27ms/step - loss: 0.0284 - accuracy: 0.9947\n",
      "Epoch 89/100\n",
      "71/71 [==============================] - 2s 27ms/step - loss: 0.0132 - accuracy: 0.9956\n",
      "Epoch 90/100\n",
      "71/71 [==============================] - 2s 27ms/step - loss: 0.0246 - accuracy: 0.9929\n",
      "Epoch 91/100\n",
      "71/71 [==============================] - 2s 27ms/step - loss: 0.0158 - accuracy: 0.9938\n",
      "Epoch 92/100\n",
      "71/71 [==============================] - 2s 27ms/step - loss: 0.0255 - accuracy: 0.9924\n",
      "Epoch 93/100\n",
      "71/71 [==============================] - 2s 27ms/step - loss: 0.0283 - accuracy: 0.9942\n",
      "Epoch 94/100\n",
      "71/71 [==============================] - 2s 28ms/step - loss: 0.0177 - accuracy: 0.9956\n",
      "Epoch 95/100\n",
      "71/71 [==============================] - 2s 27ms/step - loss: 0.0217 - accuracy: 0.9938\n",
      "Epoch 96/100\n",
      "71/71 [==============================] - 2s 27ms/step - loss: 0.0394 - accuracy: 0.9893\n",
      "Epoch 97/100\n",
      "71/71 [==============================] - 2s 27ms/step - loss: 0.0312 - accuracy: 0.9924\n",
      "Epoch 98/100\n",
      "71/71 [==============================] - 2s 27ms/step - loss: 0.0480 - accuracy: 0.9858\n",
      "Epoch 99/100\n",
      "71/71 [==============================] - 2s 27ms/step - loss: 0.0286 - accuracy: 0.9933\n",
      "Epoch 100/100\n",
      "71/71 [==============================] - 2s 27ms/step - loss: 0.0347 - accuracy: 0.9880\n",
      "WARNING:tensorflow:From D:\\anaconda\\lib\\site-packages\\tensorflow\\python\\training\\tracking\\tracking.py:111: Model.state_updates (from tensorflow.python.keras.engine.training) is deprecated and will be removed in a future version.\n",
      "Instructions for updating:\n",
      "This property should not be used in TensorFlow 2.0, as updates are applied automatically.\n",
      "WARNING:tensorflow:From D:\\anaconda\\lib\\site-packages\\tensorflow\\python\\training\\tracking\\tracking.py:111: Layer.updates (from tensorflow.python.keras.engine.base_layer) is deprecated and will be removed in a future version.\n",
      "Instructions for updating:\n",
      "This property should not be used in TensorFlow 2.0, as updates are applied automatically.\n",
      "INFO:tensorflow:Assets written to: .\\image_classifier\\best_model\\assets\n"
     ]
    }
   ],
   "source": [
    "clf = ak.ImageClassifier(\n",
    "    overwrite=True,\n",
    "    max_trials=1)\n",
    "clf.fit(trainX, trainY, epochs=100)"
   ]
  },
  {
   "cell_type": "code",
   "execution_count": 8,
   "metadata": {},
   "outputs": [
    {
     "name": "stdout",
     "output_type": "stream",
     "text": [
      "[[9.9703264e-01 2.9659532e-03 1.4408553e-06]\n",
      " [1.9990100e-01 8.0009902e-01 4.9124607e-11]\n",
      " [3.7749922e-01 6.2250084e-01 9.0806000e-12]\n",
      " ...\n",
      " [9.3736262e-11 1.7579922e-02 9.8242009e-01]\n",
      " [1.1016411e-09 1.0000000e+00 1.3159081e-18]\n",
      " [2.2989590e-01 7.7008092e-01 2.3158409e-05]]\n"
     ]
    }
   ],
   "source": [
    "predicted_y = clf.predict(testX)\n",
    "print(predicted_y)"
   ]
  },
  {
   "cell_type": "code",
   "execution_count": 9,
   "metadata": {},
   "outputs": [
    {
     "name": "stdout",
     "output_type": "stream",
     "text": [
      "24/24 [==============================] - 0s 11ms/step - loss: 2.5842 - accuracy: 0.6867\n",
      "[2.584242105484009, 0.6866666674613953]\n"
     ]
    }
   ],
   "source": [
    "print(clf.evaluate(testX, testY))"
   ]
  },
  {
   "cell_type": "code",
   "execution_count": 10,
   "metadata": {},
   "outputs": [
    {
     "name": "stdout",
     "output_type": "stream",
     "text": [
      "              precision    recall  f1-score   support\n",
      "\n",
      "        cats       0.67      0.59      0.63       262\n",
      "        dogs       0.58      0.62      0.60       249\n",
      "       panda       0.82      0.86      0.84       239\n",
      "\n",
      "    accuracy                           0.69       750\n",
      "   macro avg       0.69      0.69      0.69       750\n",
      "weighted avg       0.69      0.69      0.69       750\n",
      "\n"
     ]
    }
   ],
   "source": [
    "from sklearn.metrics import classification_report\n",
    "print(classification_report(testY.argmax(axis=1), predicted_y.argmax(axis=1), target_names=lb.classes_))"
   ]
  },
  {
   "cell_type": "code",
   "execution_count": null,
   "metadata": {},
   "outputs": [],
   "source": []
  }
 ],
 "metadata": {
  "kernelspec": {
   "display_name": "Python 3",
   "language": "python",
   "name": "python3"
  },
  "language_info": {
   "codemirror_mode": {
    "name": "ipython",
    "version": 3
   },
   "file_extension": ".py",
   "mimetype": "text/x-python",
   "name": "python",
   "nbconvert_exporter": "python",
   "pygments_lexer": "ipython3",
   "version": "3.7.7"
  }
 },
 "nbformat": 4,
 "nbformat_minor": 4
}
